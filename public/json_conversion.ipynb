{
 "cells": [
  {
   "cell_type": "code",
   "execution_count": null,
   "id": "b1d416e8",
   "metadata": {},
   "outputs": [],
   "source": [
    "import pandas as pd\n",
    "import json\n",
    "from datetime import datetime\n",
    "\n",
    "# Load Excel file\n",
    "file_path = r\"EltaMD_Data.xlsx\"  # Replace with your Excel file path\n",
    "df = pd.read_excel(file_path)\n",
    "\n",
    "# Convert DataFrame to records and handle datetime serialization\n",
    "def datetime_handler(obj):\n",
    "    if isinstance(obj, (pd.Timestamp, datetime)):\n",
    "        return obj.isoformat()\n",
    "    raise TypeError(f'Object of type {type(obj)} is not JSON serializable')\n",
    "\n",
    "# Convert to JSON\n",
    "json_data = df[:4500].to_dict(orient='records')\n",
    "\n",
    "\n",
    "# Print JSON with custom serializer\n",
    "print(json.dumps(json_data, indent=4, default=datetime_handler))\n",
    "\n",
    "# Optional: save to a file\n",
    "with open('data.json', 'w') as f:\n",
    "    json.dump(json_data, f, indent=4, default=datetime_handler)\n",
    "\n",
    "print(\"Excel has been converted to JSON and saved as data.json\")"
   ]
  },
  {
   "cell_type": "code",
   "execution_count": null,
   "id": "6bc5d21f",
   "metadata": {},
   "outputs": [],
   "source": []
  }
 ],
 "metadata": {
  "kernelspec": {
   "display_name": "Python 3",
   "language": "python",
   "name": "python3"
  },
  "language_info": {
   "codemirror_mode": {
    "name": "ipython",
    "version": 3
   },
   "file_extension": ".py",
   "mimetype": "text/x-python",
   "name": "python",
   "nbconvert_exporter": "python",
   "pygments_lexer": "ipython3",
   "version": "3.13.7"
  }
 },
 "nbformat": 4,
 "nbformat_minor": 5
}
